{
 "cells": [
  {
   "cell_type": "code",
   "execution_count": 1,
   "id": "4f1a48a5",
   "metadata": {
    "vscode": {
     "languageId": "python"
    }
   },
   "outputs": [
    {
     "name": "stdout",
     "output_type": "stream",
     "text": [
      "warning: using the gnuplot graphics toolkit is discouraged\n",
      "\n",
      "The gnuplot graphics toolkit is not actively maintained and has a number\n",
      "of limitations that are ulikely to be fixed.  Communication with gnuplot\n",
      "uses a one-directional pipe and limited information is passed back to the\n",
      "Octave interpreter so most changes made interactively in the plot window\n",
      "will not be reflected in the graphics properties managed by Octave.  For\n",
      "example, if the plot window is closed with a mouse click, Octave will not\n",
      "be notified and will not update it's internal list of open figure windows.\n",
      "We recommend using the qt toolkit instead.\n",
      "\n"
     ]
    }
   ],
   "source": [
    "% loop over the 24 macbeth reflectance and find the product \n",
    "% with the chosen illuminant\n",
    "load(\"./seed-01.mat\");\n",
    "\n",
    "% map the names from seed file to more meaningful ones\n",
    "daylight_illuminant             = D65;\n",
    "tangsten_illuminant             = A;\n",
    "mcbeth_color_surface            = S;\n",
    "human_visual_sensitivities      = CMF;\n",
    "color_camera_sensitivities      = R;"
   ]
  },
  {
   "cell_type": "code",
   "execution_count": 2,
   "id": "ca8d014b-7875-4b12-a78d-979ba54f0992",
   "metadata": {
    "vscode": {
     "languageId": "python"
    }
   },
   "outputs": [
    {
     "data": {
      "image/png": "[encoded data removed]",
      "text/plain": [
       "<IPython.core.display.Image object>"
      ]
     },
     "metadata": {},
     "output_type": "display_data"
    }
   ],
   "source": [
    "THIS_OBSERVER                       = color_camera_sensitivities;\n",
    "THIS_ILLUMINANT                     = daylight_illuminant;\n",
    "THIS_24x24_SURFACE_REFLECTANCE      = mcbeth_color_surface;\n",
    "\n",
    "[x, num_cols]       = size(S);\n",
    "result_matrix       = zeros(num_cols,3);\n",
    "\n",
    "for i = 1:num_cols\n",
    "    color_sig                   = THIS_ILLUMINANT.*THIS_24x24_SURFACE_REFLECTANCE(:,i);\n",
    "    result_matrix(i,1)          = sum(THIS_OBSERVER(:,1) .* color_sig);\n",
    "    result_matrix(i,2)          = sum(THIS_OBSERVER(:,2) .* color_sig);\n",
    "    result_matrix(i,3)          = sum(THIS_OBSERVER(:,3) .* color_sig);\n",
    "end\n",
    "\n",
    "buf    = zeros(50,1200,3);\n",
    "step   = 51;\n",
    "\n",
    "for j=1:24\n",
    "    cur_color                   = xyz2rgb(result_matrix(j,:));\n",
    "    view                        = zeros(50,50,3);\n",
    "    view(:,:,1)                 = cur_color(:,1);\n",
    "    view(:,:,2)                 = cur_color(:,2);\n",
    "    view(:,:,3)                 = cur_color(:,3);\n",
    "    buf(:,step-50:step-1,:)     = view(:,:,:);\n",
    "    step                        = step + 50;\n",
    "end\n",
    "\n",
    "mcbeth                      = zeros(200,300,3);\n",
    "mcbeth(1:50,1:300,:)        = buf(:,1:300,:);\n",
    "mcbeth(51:100,1:300,:)      = buf(:,301:600,:);\n",
    "mcbeth(101:150,1:300,:)     = buf(:,601:900,:);\n",
    "mcbeth(151:200,1:300,:)     = buf(:,901:1200,:);\n",
    "imshow(mcbeth);"
   ]
  },
  {
   "cell_type": "code",
   "execution_count": 3,
   "id": "2dd399ef-6adb-4167-b0ee-26e3da33c115",
   "metadata": {
    "vscode": {
     "languageId": "python"
    }
   },
   "outputs": [
    {
     "data": {
      "image/png": "[encoded data removed]",
      "text/plain": [
       "<IPython.core.display.Image object>"
      ]
     },
     "metadata": {},
     "output_type": "display_data"
    }
   ],
   "source": [
    "THIS_OBSERVER                       = human_visual_sensitivities;\n",
    "THIS_ILLUMINANT                     = daylight_illuminant;\n",
    "THIS_24x24_SURFACE_REFLECTANCE      = mcbeth_color_surface;\n",
    "\n",
    "[x, num_cols]       = size(S);\n",
    "result_matrix       = zeros(num_cols,3);\n",
    "\n",
    "for i = 1:num_cols\n",
    "    color_sig                   = THIS_ILLUMINANT.*THIS_24x24_SURFACE_REFLECTANCE(:,i);\n",
    "    result_matrix(i,1)          = sum(THIS_OBSERVER(:,1) .* color_sig);\n",
    "    result_matrix(i,2)          = sum(THIS_OBSERVER(:,2) .* color_sig);\n",
    "    result_matrix(i,3)          = sum(THIS_OBSERVER(:,3) .* color_sig);\n",
    "end\n",
    "\n",
    "buf    = zeros(50,1200,3);\n",
    "step   = 51;\n",
    "\n",
    "for j=1:24\n",
    "    cur_color                   = xyz2rgb(result_matrix(j,:));\n",
    "    view                        = zeros(50,50,3);\n",
    "    view(:,:,1)                 = cur_color(:,1);\n",
    "    view(:,:,2)                 = cur_color(:,2);\n",
    "    view(:,:,3)                 = cur_color(:,3);\n",
    "    buf(:,step-50:step-1,:)     = view(:,:,:);\n",
    "    step                        = step + 50;\n",
    "end\n",
    "\n",
    "mcbeth                      = zeros(200,300,3);\n",
    "mcbeth(1:50,1:300,:)        = buf(:,1:300,:);\n",
    "mcbeth(51:100,1:300,:)      = buf(:,301:600,:);\n",
    "mcbeth(101:150,1:300,:)     = buf(:,601:900,:);\n",
    "mcbeth(151:200,1:300,:)     = buf(:,901:1200,:);\n",
    "imshow(mcbeth);"
   ]
  },
  {
   "cell_type": "code",
   "execution_count": 4,
   "id": "5428656a-d8dc-4e5f-8c99-dc959cddb701",
   "metadata": {
    "vscode": {
     "languageId": "python"
    }
   },
   "outputs": [
    {
     "data": {
      "image/png": "[encoded data removed]",
      "text/plain": [
       "<IPython.core.display.Image object>"
      ]
     },
     "metadata": {},
     "output_type": "display_data"
    }
   ],
   "source": [
    "THIS_OBSERVER                       = color_camera_sensitivities;\n",
    "THIS_ILLUMINANT                     = tangsten_illuminant;\n",
    "THIS_24x24_SURFACE_REFLECTANCE      = mcbeth_color_surface;\n",
    "\n",
    "[x, num_cols]       = size(S);\n",
    "result_matrix       = zeros(num_cols,3);\n",
    "\n",
    "for i = 1:num_cols\n",
    "    color_sig                   = THIS_ILLUMINANT.*THIS_24x24_SURFACE_REFLECTANCE(:,i);\n",
    "    result_matrix(i,1)          = sum(THIS_OBSERVER(:,1) .* color_sig);\n",
    "    result_matrix(i,2)          = sum(THIS_OBSERVER(:,2) .* color_sig);\n",
    "    result_matrix(i,3)          = sum(THIS_OBSERVER(:,3) .* color_sig);\n",
    "end\n",
    "\n",
    "buf    = zeros(50,1200,3);\n",
    "step   = 51;\n",
    "\n",
    "for j=1:24\n",
    "    cur_color                   = xyz2rgb(result_matrix(j,:));\n",
    "    view                        = zeros(50,50,3);\n",
    "    view(:,:,1)                 = cur_color(:,1);\n",
    "    view(:,:,2)                 = cur_color(:,2);\n",
    "    view(:,:,3)                 = cur_color(:,3);\n",
    "    buf(:,step-50:step-1,:)     = view(:,:,:);\n",
    "    step                        = step + 50;\n",
    "end\n",
    "\n",
    "mcbeth                      = zeros(200,300,3);\n",
    "mcbeth(1:50,1:300,:)        = buf(:,1:300,:);\n",
    "mcbeth(51:100,1:300,:)      = buf(:,301:600,:);\n",
    "mcbeth(101:150,1:300,:)     = buf(:,601:900,:);\n",
    "mcbeth(151:200,1:300,:)     = buf(:,901:1200,:);\n",
    "imshow(mcbeth);"
   ]
  },
  {
   "cell_type": "code",
   "execution_count": 5,
   "id": "ef183cb5-12ad-4e9b-bddb-cd240db16c57",
   "metadata": {
    "vscode": {
     "languageId": "python"
    }
   },
   "outputs": [
    {
     "data": {
      "image/png": "[encoded data removed]",
      "text/plain": [
       "<IPython.core.display.Image object>"
      ]
     },
     "metadata": {},
     "output_type": "display_data"
    }
   ],
   "source": [
    "THIS_OBSERVER                       = human_visual_sensitivities;\n",
    "THIS_ILLUMINANT                     = tangsten_illuminant;\n",
    "THIS_24x24_SURFACE_REFLECTANCE      = mcbeth_color_surface;\n",
    "\n",
    "[x, num_cols]       = size(S);\n",
    "result_matrix       = zeros(num_cols,3);\n",
    "\n",
    "for i = 1:num_cols\n",
    "    color_sig                   = THIS_ILLUMINANT.*THIS_24x24_SURFACE_REFLECTANCE(:,i);\n",
    "    result_matrix(i,1)          = sum(THIS_OBSERVER(:,1) .* color_sig);\n",
    "    result_matrix(i,2)          = sum(THIS_OBSERVER(:,2) .* color_sig);\n",
    "    result_matrix(i,3)          = sum(THIS_OBSERVER(:,3) .* color_sig);\n",
    "end\n",
    "\n",
    "buf    = zeros(50,1200,3);\n",
    "step   = 51;\n",
    "\n",
    "for j=1:24\n",
    "    cur_color                   = xyz2rgb(result_matrix(j,:));\n",
    "    view                        = zeros(50,50,3);\n",
    "    view(:,:,1)                 = cur_color(:,1);\n",
    "    view(:,:,2)                 = cur_color(:,2);\n",
    "    view(:,:,3)                 = cur_color(:,3);\n",
    "    buf(:,step-50:step-1,:)     = view(:,:,:);\n",
    "    step                        = step + 50;\n",
    "end\n",
    "\n",
    "mcbeth                      = zeros(200,300,3);\n",
    "mcbeth(1:50,1:300,:)        = buf(:,1:300,:);\n",
    "mcbeth(51:100,1:300,:)      = buf(:,301:600,:);\n",
    "mcbeth(101:150,1:300,:)     = buf(:,601:900,:);\n",
    "mcbeth(151:200,1:300,:)     = buf(:,901:1200,:);\n",
    "imshow(mcbeth);"
   ]
  },
  {
   "cell_type": "code",
   "execution_count": null,
   "id": "b9f9a245-2946-49fd-ac43-4fe50ca2cda5",
   "metadata": {
    "vscode": {
     "languageId": "python"
    }
   },
   "outputs": [],
   "source": []
  }
 ],
 "metadata": {
  "kernelspec": {
   "display_name": "Octave",
   "language": "octave",
   "name": "octave"
  },
  "language_info": {
   "file_extension": ".m",
   "help_links": [
    {
     "text": "GNU Octave",
     "url": "https://www.gnu.org/software/octave/support.html"
    },
    {
     "text": "Octave Kernel",
     "url": "https://github.com/Calysto/octave_kernel"
    },
    {
     "text": "MetaKernel Magics",
     "url": "https://metakernel.readthedocs.io/en/latest/source/README.html"
    }
   ],
   "mimetype": "text/x-octave",
   "name": "octave",
   "version": "6.4.0"
  },
  "vscode": {
   "interpreter": {
    "hash": "28b9967f0a27bcb27c815dc3b77ebd1a17e160a783a3c8d1ae69c9b72899a219"
   }
  }
 },
 "nbformat": 4,
 "nbformat_minor": 5
}
